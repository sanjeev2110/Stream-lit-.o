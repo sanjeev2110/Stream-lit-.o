{
 "cells": [
  {
   "cell_type": "code",
   "execution_count": 1,
   "metadata": {},
   "outputs": [],
   "source": [
    "import json\n",
    "import pandas as pd"
   ]
  },
  {
   "cell_type": "code",
   "execution_count": 3,
   "metadata": {},
   "outputs": [],
   "source": [
    "# Specify the path to your JSON file\n",
    "json_file_path = 'rules.json'\n",
    "\n",
    "# Load the JSON data from the file\n",
    "with open(json_file_path, 'r') as file:\n",
    "    data = json.load(file)\n",
    "\n",
    "\n",
    "# Prepare data for DataFrame\n",
    "rows = []\n",
    "\n",
    "# Extract recommendations\n",
    "for title, details in data[\"recommendations\"].items():\n",
    "    row = {'Title': title, 'Description': details['description']}\n",
    "    # Extract conditions and append them as separate columns\n",
    "    for i, condition in enumerate(details['conditions']):\n",
    "        row[f'Question_{i+1}'] = condition['question_key']\n",
    "        row[f'Answer_{i+1}'] = condition['expected_answer']\n",
    "    rows.append(row)\n",
    "\n",
    "# Create DataFrame\n",
    "df = pd.DataFrame(rows)\n",
    "\n",
    "# Specify the file path to save the Excel file (modify as needed)\n",
    "file_path = 'recommendations.xlsx'\n",
    "\n",
    "# Save to Excel\n",
    "df.to_excel(file_path, index=False)"
   ]
  },
  {
   "cell_type": "code",
   "execution_count": null,
   "metadata": {},
   "outputs": [],
   "source": []
  }
 ],
 "metadata": {
  "kernelspec": {
   "display_name": "Python 3",
   "language": "python",
   "name": "python3"
  },
  "language_info": {
   "codemirror_mode": {
    "name": "ipython",
    "version": 3
   },
   "file_extension": ".py",
   "mimetype": "text/x-python",
   "name": "python",
   "nbconvert_exporter": "python",
   "pygments_lexer": "ipython3",
   "version": "3.9.0"
  }
 },
 "nbformat": 4,
 "nbformat_minor": 2
}
